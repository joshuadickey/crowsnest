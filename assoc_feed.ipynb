{
 "cells": [
  {
   "cell_type": "code",
   "execution_count": 1,
   "id": "1ed0cca7",
   "metadata": {},
   "outputs": [],
   "source": [
    "# assoc_feed\n",
    "# Does the pre-processing of arrivals to feed to the associator"
   ]
  },
  {
   "cell_type": "code",
   "execution_count": 2,
   "id": "e496b6a0",
   "metadata": {},
   "outputs": [],
   "source": [
    "import numpy as np\n",
    "import pandas as pd\n",
    "import os\n",
    "import json\n",
    "import requests\n",
    "\n",
    "from flask import Flask, request, jsonify"
   ]
  },
  {
   "cell_type": "code",
   "execution_count": null,
   "id": "c1e47f08",
   "metadata": {},
   "outputs": [],
   "source": []
  },
  {
   "cell_type": "code",
   "execution_count": 3,
   "id": "adfae7d8",
   "metadata": {},
   "outputs": [],
   "source": [
    "# Import configuration paramaters for pipeline\n",
    "import pconf"
   ]
  },
  {
   "cell_type": "code",
   "execution_count": 4,
   "id": "2565f5af",
   "metadata": {},
   "outputs": [],
   "source": [
    "# App variables\n",
    "app = Flask(__name__)\n",
    "app_name = 'assoc_feed'\n",
    "napp = 'assoc'\n",
    "duplicate_threshold = 0.25\n",
    "# arrival_count = 0\n",
    "# assoc_bs = 20\n",
    "# assoc_buffer = []"
   ]
  },
  {
   "cell_type": "code",
   "execution_count": 5,
   "id": "eb6f8883",
   "metadata": {},
   "outputs": [],
   "source": [
    "# Test up method\n",
    "@app.route('/')\n",
    "def apitest():\n",
    "    return f'{app_name} is working'"
   ]
  },
  {
   "cell_type": "code",
   "execution_count": 6,
   "id": "64394e9c",
   "metadata": {},
   "outputs": [],
   "source": [
    "def clean_catalog(filename):\n",
    "    #Generate Dataframe from CSV File, apply Datetime format to date/times.\n",
    "    cat = pd.read_csv(filename)\n",
    "    cat.columns = ['ARID','PHASE','DATETIME','STA','STA_LAT','STA_LON']\n",
    "    cat['DATETIME'] = pd.to_datetime(cat['DATETIME'])\n",
    "    \n",
    "    # Sort in place\n",
    "    cat.sort_values(by=['STA', 'DATETIME', 'PHASE'], ignore_index=True, inplace=True)\n",
    "\n",
    "    #Create a copy of cat and shift it down by one row\n",
    "    shiftcat = cat.copy(deep = True)\n",
    "    shiftcat.drop(labels=0, axis=0, inplace = True)\n",
    "    shiftcat.reset_index(drop = True, inplace = True)\n",
    "\n",
    "    #Compare DATETIME from cat to shiftcat DATETIME, generate timedeltas.\n",
    "    cat['TIMEDELT'] = (shiftcat.DATETIME - cat.DATETIME).dt.total_seconds().abs()\n",
    "    cat['SHIFTPHASE'] = shiftcat.PHASE\n",
    "    cat['SHIFTSTA'] = shiftcat.STA\n",
    "    \n",
    "    #Creates a new dataframe that removes any picks that were within .25 seconds of another pick of the same phase occuring on the same station.\n",
    "    cat = cat[~((cat['TIMEDELT'] <= duplicate_threshold) & (cat['PHASE'] == cat['SHIFTPHASE']) & (cat['STA'] == cat['SHIFTSTA']))]\n",
    "    cat.drop(columns = ['TIMEDELT','SHIFTPHASE','SHIFTSTA'], inplace=True)\n",
    "    cat.reset_index(drop = True, inplace=True)\n",
    "\n",
    "    return cat"
   ]
  },
  {
   "cell_type": "code",
   "execution_count": 7,
   "id": "97e9d43b",
   "metadata": {},
   "outputs": [],
   "source": [
    "# This is the URI that process the received requests\n",
    "@app.route(f'/{app_name}', methods=['POST'])\n",
    "def process_request():  \n",
    "    # Read the catalog filename from the pdict\n",
    "    pdict = request.json\n",
    "    cat = pdict['cat']\n",
    "    \n",
    "    # Clean the catalog of duplicates\n",
    "    cleancat = clean_catalog(cat)\n",
    "    clean_cat = pdict['clean_cat']\n",
    "    \n",
    "    cleancat.to_csv(clean_cat, index=False)\n",
    "    \n",
    "    assoc_response = forward(pdict)\n",
    "    \n",
    "    return ('', 204)"
   ]
  },
  {
   "cell_type": "code",
   "execution_count": 8,
   "id": "c348ff7c",
   "metadata": {},
   "outputs": [],
   "source": [
    "def forward(json_data):\n",
    "    response = requests.post(f'http://{pconf.host}:{pconf.apps[napp]}/{napp}', json = json_data, headers = pconf.head)\n",
    "    return ('', 204)"
   ]
  },
  {
   "cell_type": "code",
   "execution_count": null,
   "id": "00e0d195",
   "metadata": {},
   "outputs": [
    {
     "name": "stdout",
     "output_type": "stream",
     "text": [
      " * Serving Flask app \"__main__\" (lazy loading)\n",
      " * Environment: production\n",
      "\u001b[31m   WARNING: This is a development server. Do not use it in a production deployment.\u001b[0m\n",
      "\u001b[2m   Use a production WSGI server instead.\u001b[0m\n",
      " * Debug mode: off\n"
     ]
    },
    {
     "name": "stderr",
     "output_type": "stream",
     "text": [
      " * Running on http://127.0.0.1:6004/ (Press CTRL+C to quit)\n",
      "127.0.0.1 - - [10/Nov/2021 22:59:34] \"\u001b[37mPOST /assoc_feed HTTP/1.1\u001b[0m\" 204 -\n",
      "127.0.0.1 - - [10/Nov/2021 23:04:09] \"\u001b[37mPOST /assoc_feed HTTP/1.1\u001b[0m\" 204 -\n"
     ]
    }
   ],
   "source": [
    "if __name__ == '__main__':\n",
    "    app.run(pconf.host, debug=False, port=pconf.apps[app_name])"
   ]
  },
  {
   "cell_type": "code",
   "execution_count": null,
   "id": "90fdebac",
   "metadata": {},
   "outputs": [],
   "source": []
  }
 ],
 "metadata": {
  "kernelspec": {
   "display_name": "Python 3",
   "language": "python",
   "name": "python3"
  },
  "language_info": {
   "codemirror_mode": {
    "name": "ipython",
    "version": 3
   },
   "file_extension": ".py",
   "mimetype": "text/x-python",
   "name": "python",
   "nbconvert_exporter": "python",
   "pygments_lexer": "ipython3",
   "version": "3.8.11"
  }
 },
 "nbformat": 4,
 "nbformat_minor": 5
}
