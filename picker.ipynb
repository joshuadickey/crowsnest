{
 "cells": [
  {
   "cell_type": "code",
   "execution_count": 1,
   "id": "ec87f680",
   "metadata": {
    "tags": []
   },
   "outputs": [],
   "source": [
    "# Picker\n",
    "# Pick waves and pass arrivals to the assoc_feed app"
   ]
  },
  {
   "cell_type": "code",
   "execution_count": 2,
   "id": "434a800a",
   "metadata": {},
   "outputs": [],
   "source": [
    "import numpy as np\n",
    "import pandas as pd\n",
    "import os\n",
    "import json\n",
    "import requests\n",
    "\n",
    "from obspy import UTCDateTime\n",
    "from flask import Flask, request, jsonify\n",
    "from scipy.signal import lfilter, butter, decimate, hann, find_peaks\n",
    "\n",
    "import scipy.stats as stats\n",
    "import tensorflow as tf\n",
    "import matplotlib.pyplot as plt"
   ]
  },
  {
   "cell_type": "code",
   "execution_count": 3,
   "id": "afcbcd7d",
   "metadata": {},
   "outputs": [],
   "source": [
    "# Import configuration paramaters for pipeline\n",
    "import pconf"
   ]
  },
  {
   "cell_type": "code",
   "execution_count": 4,
   "id": "3a69f4db",
   "metadata": {},
   "outputs": [],
   "source": [
    "%matplotlib inline\n",
    "#%matplotlib widget"
   ]
  },
  {
   "cell_type": "code",
   "execution_count": 5,
   "id": "e10aa933",
   "metadata": {},
   "outputs": [],
   "source": [
    "# App variables\n",
    "app = Flask(__name__)\n",
    "app_name = 'picker'\n",
    "napp = 'assoc_feed'\n",
    "model_par = {v[0]:v[1] for v in [pair.split(':') for pair in pconf.picker_model[:-3].split('|')]}"
   ]
  },
  {
   "cell_type": "code",
   "execution_count": 6,
   "id": "7b9e458d",
   "metadata": {},
   "outputs": [],
   "source": [
    "gpus = tf.config.experimental.list_physical_devices('GPU')\n",
    "if gpus:\n",
    "    try:\n",
    "        for gpu in gpus:\n",
    "            tf.config.experimental.set_memory_growth(gpu, True)\n",
    "    except RuntimeError as e:\n",
    "        print(e)"
   ]
  },
  {
   "cell_type": "code",
   "execution_count": 7,
   "id": "a482537c",
   "metadata": {},
   "outputs": [],
   "source": [
    "def get_custom_loss(trim):\n",
    "    def inner_mse(y_true, y_pred):\n",
    "        error = y_true[:,trim:-trim] - y_pred[:,trim:-trim]\n",
    "        sqr_error = K.square(error)\n",
    "        mean_sqr_error = K.mean(sqr_error)\n",
    "\n",
    "        return mean_sqr_error\n",
    "    return inner_mse"
   ]
  },
  {
   "cell_type": "code",
   "execution_count": 8,
   "id": "7bf8534f",
   "metadata": {},
   "outputs": [],
   "source": [
    "def load_my_model(name, location, trim):\n",
    "    my_loss = get_custom_loss(trim)\n",
    "    return tf.keras.models.load_model(os.path.join(location, name), \n",
    "                                      custom_objects={\n",
    "                                          'inner_mse':my_loss,\n",
    "                                      })"
   ]
  },
  {
   "cell_type": "code",
   "execution_count": 10,
   "id": "80c166ec",
   "metadata": {
    "tags": []
   },
   "outputs": [
    {
     "name": "stdout",
     "output_type": "stream",
     "text": [
      "f:64|k:20|d:2x4x16x256|s:2|bs:100|o_len:1800|w_len:1800|n_phs:4|shift:0|left_trim:500|right_trim:1000|r_smp:20|f_low:0.5|f_hig:8|c_len:60|c_buf:0|c_shp:gauss|c_amp:1|noise:0.1|mixed:0.1|lr:0.0005|pat:10|time:1627374037.h5\n",
      "Model: \"encoder_model\"\n",
      "__________________________________________________________________________________________________\n",
      "Layer (type)                    Output Shape         Param #     Connected to                     \n",
      "==================================================================================================\n",
      "input_7 (InputLayer)            [(None, None, 3)]    0                                            \n",
      "__________________________________________________________________________________________________\n",
      "conv1d_72 (Conv1D)              (None, None, 64)     3904        input_7[0][0]                    \n",
      "__________________________________________________________________________________________________\n",
      "activation_36 (Activation)      (None, None, 64)     0           conv1d_72[0][0]                  \n",
      "__________________________________________________________________________________________________\n",
      "spatial_dropout1d_36 (SpatialDr (None, None, 64)     0           activation_36[0][0]              \n",
      "__________________________________________________________________________________________________\n",
      "conv1d_73 (Conv1D)              (None, None, 64)     256         input_7[0][0]                    \n",
      "__________________________________________________________________________________________________\n",
      "add_42 (Add)                    (None, None, 64)     0           conv1d_73[0][0]                  \n",
      "                                                                 spatial_dropout1d_36[0][0]       \n",
      "__________________________________________________________________________________________________\n",
      "conv1d_74 (Conv1D)              (None, None, 64)     81984       add_42[0][0]                     \n",
      "__________________________________________________________________________________________________\n",
      "activation_37 (Activation)      (None, None, 64)     0           conv1d_74[0][0]                  \n",
      "__________________________________________________________________________________________________\n",
      "spatial_dropout1d_37 (SpatialDr (None, None, 64)     0           activation_37[0][0]              \n",
      "__________________________________________________________________________________________________\n",
      "conv1d_75 (Conv1D)              (None, None, 64)     4160        add_42[0][0]                     \n",
      "__________________________________________________________________________________________________\n",
      "add_43 (Add)                    (None, None, 64)     0           conv1d_75[0][0]                  \n",
      "                                                                 spatial_dropout1d_37[0][0]       \n",
      "__________________________________________________________________________________________________\n",
      "conv1d_76 (Conv1D)              (None, None, 64)     81984       add_43[0][0]                     \n",
      "__________________________________________________________________________________________________\n",
      "activation_38 (Activation)      (None, None, 64)     0           conv1d_76[0][0]                  \n",
      "__________________________________________________________________________________________________\n",
      "spatial_dropout1d_38 (SpatialDr (None, None, 64)     0           activation_38[0][0]              \n",
      "__________________________________________________________________________________________________\n",
      "conv1d_77 (Conv1D)              (None, None, 64)     4160        add_43[0][0]                     \n",
      "__________________________________________________________________________________________________\n",
      "add_44 (Add)                    (None, None, 64)     0           conv1d_77[0][0]                  \n",
      "                                                                 spatial_dropout1d_38[0][0]       \n",
      "__________________________________________________________________________________________________\n",
      "conv1d_78 (Conv1D)              (None, None, 64)     81984       add_44[0][0]                     \n",
      "__________________________________________________________________________________________________\n",
      "activation_39 (Activation)      (None, None, 64)     0           conv1d_78[0][0]                  \n",
      "__________________________________________________________________________________________________\n",
      "spatial_dropout1d_39 (SpatialDr (None, None, 64)     0           activation_39[0][0]              \n",
      "__________________________________________________________________________________________________\n",
      "conv1d_79 (Conv1D)              (None, None, 64)     4160        add_44[0][0]                     \n",
      "__________________________________________________________________________________________________\n",
      "add_45 (Add)                    (None, None, 64)     0           conv1d_79[0][0]                  \n",
      "                                                                 spatial_dropout1d_39[0][0]       \n",
      "__________________________________________________________________________________________________\n",
      "conv1d_80 (Conv1D)              (None, None, 64)     81984       add_45[0][0]                     \n",
      "__________________________________________________________________________________________________\n",
      "activation_40 (Activation)      (None, None, 64)     0           conv1d_80[0][0]                  \n",
      "__________________________________________________________________________________________________\n",
      "spatial_dropout1d_40 (SpatialDr (None, None, 64)     0           activation_40[0][0]              \n",
      "__________________________________________________________________________________________________\n",
      "conv1d_81 (Conv1D)              (None, None, 64)     4160        add_45[0][0]                     \n",
      "__________________________________________________________________________________________________\n",
      "add_46 (Add)                    (None, None, 64)     0           conv1d_81[0][0]                  \n",
      "                                                                 spatial_dropout1d_40[0][0]       \n",
      "__________________________________________________________________________________________________\n",
      "conv1d_82 (Conv1D)              (None, None, 64)     81984       add_46[0][0]                     \n",
      "__________________________________________________________________________________________________\n",
      "activation_41 (Activation)      (None, None, 64)     0           conv1d_82[0][0]                  \n",
      "__________________________________________________________________________________________________\n",
      "spatial_dropout1d_41 (SpatialDr (None, None, 64)     0           activation_41[0][0]              \n",
      "__________________________________________________________________________________________________\n",
      "conv1d_83 (Conv1D)              (None, None, 64)     4160        add_46[0][0]                     \n",
      "__________________________________________________________________________________________________\n",
      "add_47 (Add)                    (None, None, 64)     0           conv1d_83[0][0]                  \n",
      "                                                                 spatial_dropout1d_41[0][0]       \n",
      "__________________________________________________________________________________________________\n",
      "conv1d_84 (Conv1D)              (None, None, 64)     81984       add_47[0][0]                     \n",
      "__________________________________________________________________________________________________\n",
      "activation_42 (Activation)      (None, None, 64)     0           conv1d_84[0][0]                  \n",
      "__________________________________________________________________________________________________\n",
      "spatial_dropout1d_42 (SpatialDr (None, None, 64)     0           activation_42[0][0]              \n",
      "__________________________________________________________________________________________________\n",
      "conv1d_85 (Conv1D)              (None, None, 64)     4160        add_47[0][0]                     \n",
      "__________________________________________________________________________________________________\n",
      "add_48 (Add)                    (None, None, 64)     0           conv1d_85[0][0]                  \n",
      "                                                                 spatial_dropout1d_42[0][0]       \n",
      "__________________________________________________________________________________________________\n",
      "conv1d_86 (Conv1D)              (None, None, 64)     81984       add_48[0][0]                     \n",
      "__________________________________________________________________________________________________\n",
      "activation_43 (Activation)      (None, None, 64)     0           conv1d_86[0][0]                  \n",
      "__________________________________________________________________________________________________\n",
      "spatial_dropout1d_43 (SpatialDr (None, None, 64)     0           activation_43[0][0]              \n",
      "__________________________________________________________________________________________________\n",
      "add_50 (Add)                    (None, None, 64)     0           spatial_dropout1d_36[0][0]       \n",
      "                                                                 spatial_dropout1d_37[0][0]       \n",
      "                                                                 spatial_dropout1d_38[0][0]       \n",
      "                                                                 spatial_dropout1d_39[0][0]       \n",
      "                                                                 spatial_dropout1d_40[0][0]       \n",
      "                                                                 spatial_dropout1d_41[0][0]       \n",
      "                                                                 spatial_dropout1d_42[0][0]       \n",
      "                                                                 spatial_dropout1d_43[0][0]       \n",
      "__________________________________________________________________________________________________\n",
      "output (Dense)                  (None, None, 4)      260         add_50[0][0]                     \n",
      "==================================================================================================\n",
      "Total params: 603,268\n",
      "Trainable params: 603,268\n",
      "Non-trainable params: 0\n",
      "__________________________________________________________________________________________________\n"
     ]
    }
   ],
   "source": [
    "picker = load_my_model(pconf.picker_model, pconf.model_folder, model_par['left_trim'])\n",
    "print(pconf.picker_model)\n",
    "picker.summary()"
   ]
  },
  {
   "cell_type": "code",
   "execution_count": 11,
   "id": "af8df423",
   "metadata": {},
   "outputs": [],
   "source": [
    "# Filters and stuff\n",
    "def DAT_normalize(X):\n",
    "    X = X - np.expand_dims(np.mean(X,1),1)\n",
    "    X = X / np.expand_dims(np.expand_dims(np.abs(X).max(1).max(1), 1), 1)\n",
    "    return X\n",
    "\n",
    "def butter_bandpass(lowcut, highcut, fs, order=8):\n",
    "    nyq = 0.5 * fs\n",
    "    low = lowcut / nyq\n",
    "    high = highcut / nyq\n",
    "\n",
    "    b, a = butter(order, [low, high], btype='band')\n",
    "    return b, a\n",
    "\n",
    "def DAT_filter(X, pdict, order=3):\n",
    "    lowcut = pdict['f_low']\n",
    "    highcut = pdict['f_hig']\n",
    "    fs = pdict['r_smp']\n",
    "    b, a = butter_bandpass(lowcut, highcut, fs, order=order)\n",
    "    return lfilter(b, a, X, axis=1) \n",
    "\n",
    "def DAT_taper(X, taper_percentage=.05):\n",
    "    npts = X.shape[1]\n",
    "    taper_len = int(npts * taper_percentage)\n",
    "    taper_sides = hann(2 * taper_len + 1)\n",
    "    taper = np.hstack((taper_sides[:taper_len], np.ones(npts - taper_len)))\n",
    "    return X * np.reshape(taper,(1,-1,1))"
   ]
  },
  {
   "cell_type": "code",
   "execution_count": 12,
   "id": "de093b52",
   "metadata": {},
   "outputs": [],
   "source": [
    "def showme(wave, picks, pdict, sp=0):    \n",
    "    b, a = butter_bandpass(.5, 2, 20, order=8)\n",
    "    lp_wave = lfilter(b, a, wave[sp], axis=1) \n",
    "    \n",
    "    b, a = butter_bandpass(2, 8, 20, order=8)\n",
    "    hp_wave = lfilter(b, a, wave[sp], axis=1) \n",
    "    \n",
    "    sta = pdict['metadata'][sp]['sta']\n",
    "    start = UTCDateTime(pdict['metadata'][sp]['start'])\n",
    "    end = start + pdict['window_size']\n",
    "\n",
    "    fig, axs = plt.subplots(5, figsize=(15,12), sharex=True)\n",
    "    fig.suptitle(f'{sta}: {start} - {end}')\n",
    "    axs[0].plot(wave[sp])\n",
    "    axs[0].title.set_text('Y - bandpass filtered 0.5-8 Hz')\n",
    "    axs[1].plot(hp_wave)\n",
    "    axs[1].title.set_text('hp_Y - bandpass filtered 2-8 Hz')\n",
    "    axs[2].plot(lp_wave)\n",
    "    axs[2].title.set_text('lp_Y - bandpass filtered 0.5-2 Hz')\n",
    "    axs[3].plot(picks[sp])\n",
    "    axs[3].title.set_text('Y_prime - raw model output')\n",
    "    axs[4].plot(clean_y(picks, pdict)[sp])\n",
    "    axs[4].title.set_text('~Y_prime - correlated output')\n",
    "    \n",
    "    for i in range(len(axs)):\n",
    "        axs[i].axvspan(0, pdict['trim'] * pdict['r_smp'], facecolor='k', alpha = 0.2)\n",
    "        axs[i].axvspan(len(wave[sp]) - pdict['trim'] * pdict['r_smp'], len(wave[sp]), facecolor='k', alpha = 0.2)\n",
    "    \n",
    "    arrivals = get_arrivals(picks, pdict)\n",
    "    pn = arrivals[sp]['pn']\n",
    "    pg = arrivals[sp]['pg']\n",
    "    sn = arrivals[sp]['sn']\n",
    "    lg = arrivals[sp]['lg']\n",
    "    \n",
    "    for ph_name, ph_list in zip(['Pn', 'Pg', 'Sn', 'Lg'], [pn, pg, sn, lg]):\n",
    "        for a in ph_list:\n",
    "            for i in range(len(axs)):\n",
    "                axs[i].axvline(x=a, c='k')\n",
    "                i>2 or axs[i].text(a,0,ph_name)\n",
    "        \n",
    "    axs[3].set_ylim((0,1))\n",
    "    axs[4].set_ylim((0,1))\n",
    "    \n",
    "    fig.tight_layout()\n",
    "    plt.show()"
   ]
  },
  {
   "cell_type": "code",
   "execution_count": 13,
   "id": "e896edd5",
   "metadata": {},
   "outputs": [],
   "source": [
    "def clean_y(characteristic_function, pdict):\n",
    "    # Replicate the original characteristic function\n",
    "    x = stats.norm.pdf(np.linspace(-3,3,pdict['c_len']*int(pdict['r_smp'])))\n",
    "    x = (x - x.min()) / (x - x.min()).max()\n",
    "    # If the two signals are the same, the max value will be the sum of the squares\n",
    "    # Use this value for normalizing the cross correlated array\n",
    "    max_corr = np.sum(x**2)\n",
    "    clean_characteristic_function = []\n",
    "    for p in range(characteristic_function.shape[0]):\n",
    "        pn = np.correlate(characteristic_function[p,:,0], x, mode='same')/max_corr\n",
    "        pg = np.correlate(characteristic_function[p,:,1], x, mode='same')/max_corr\n",
    "        sn = np.correlate(characteristic_function[p,:,2], x, mode='same')/max_corr\n",
    "        lg = np.correlate(characteristic_function[p,:,3], x, mode='same')/max_corr\n",
    "        clean_characteristic_function.append(np.vstack((pn.T, pg.T, sn.T, lg.T)).T)\n",
    "#     pn = np.correlate(picks[:,:,0], x, mode='same')/max_corr\n",
    "#     pg = np.correlate(picks[:,:,1], x, mode='same')/max_corr\n",
    "#     sn = np.correlate(picks[:,:,2], x, mode='same')/max_corr\n",
    "#     lg = np.correlate(picks[:,:,3], x, mode='same')/max_corr\n",
    "    return np.array(clean_characteristic_function)"
   ]
  },
  {
   "cell_type": "code",
   "execution_count": 14,
   "id": "f452c2f4",
   "metadata": {},
   "outputs": [],
   "source": [
    "def get_arrivals(characteristic_function, pdict):\n",
    "    # characteristic_function: characteristic_function.shape = (m, n, 4)\n",
    "    # pdict: parameters dict\n",
    "    \n",
    "    # Determine trusted range\n",
    "    low_trusted_limit = pdict['trim'] * pdict['r_smp']\n",
    "    high_trusted_limit = characteristic_function.shape[1] - low_trusted_limit\n",
    "    \n",
    "    # Smooth picks array\n",
    "    clean_characteristic_function = clean_y(characteristic_function, pdict)\n",
    "    \n",
    "    # Zero out all values below the threshold.\n",
    "    clean_characteristic_function[clean_characteristic_function < pdict['dt']] = 0\n",
    "    \n",
    "    arrivals = []\n",
    "    # Find peaks in the picks arrays\n",
    "    for p in range(clean_characteristic_function.shape[0]):\n",
    "        pn,_ = find_peaks(clean_characteristic_function[p,low_trusted_limit:high_trusted_limit,0])\n",
    "        pg,_ = find_peaks(clean_characteristic_function[p,low_trusted_limit:high_trusted_limit,1])\n",
    "        sn,_ = find_peaks(clean_characteristic_function[p,low_trusted_limit:high_trusted_limit,2])\n",
    "        lg,_ = find_peaks(clean_characteristic_function[p,low_trusted_limit:high_trusted_limit,3])\n",
    "        \n",
    "        # Because the low trusted limit was spliced out it needs to be added again for plotting and time calculation\n",
    "        picks = {\n",
    "            'pn': pn + low_trusted_limit,\n",
    "            'pg': pg + low_trusted_limit,\n",
    "            'sn': sn + low_trusted_limit,\n",
    "            'lg': lg + low_trusted_limit\n",
    "        }\n",
    "        arrivals.append(picks)\n",
    "    return np.array(arrivals)"
   ]
  },
  {
   "cell_type": "code",
   "execution_count": 15,
   "id": "5fe413f7",
   "metadata": {},
   "outputs": [],
   "source": [
    "def build_catalog(characteristic_function, pdict):\n",
    "    \n",
    "    arrivals = get_arrivals(characteristic_function, pdict)\n",
    "    \n",
    "    try:\n",
    "        with open(pdict['cat'], \"r\") as cat:\n",
    "            arid = int(cat.readlines()[-1].split(',')[0])+1\n",
    "    except:\n",
    "        arid = 0\n",
    "        pass\n",
    "    with open(pdict['cat'], \"a+\") as cat:\n",
    "        for i, a in enumerate(arrivals):\n",
    "            for p, t in zip(a.keys(), a.values()):\n",
    "                for idx in t:\n",
    "                    cat.write(f\"{arid},{p},{str(UTCDateTime(pdict['metadata'][i]['start']) + ((idx+1)/pdict['r_smp']))},{pdict['metadata'][i]['sta']},{pdict['metadata'][i]['st_lat']},{pdict['metadata'][i]['st_lon']}\\n\")\n",
    "                    arid+=1\n",
    "    return True"
   ]
  },
  {
   "cell_type": "code",
   "execution_count": 16,
   "id": "d0a88d2f",
   "metadata": {},
   "outputs": [],
   "source": [
    "# Test up method\n",
    "@app.route('/')\n",
    "def apitest():\n",
    "    return f'{app_name} is working'"
   ]
  },
  {
   "cell_type": "code",
   "execution_count": 17,
   "id": "42b88afc",
   "metadata": {},
   "outputs": [],
   "source": [
    "# This is the URI that process the received requests\n",
    "@app.route(f'/{app_name}', methods=['POST'])\n",
    "def process_request():\n",
    "    # Get json from request\n",
    "    pdict = request.json\n",
    "    # Extract the data in the X key (this removes the data so it is not passed back and forth)\n",
    "    # Alternativelly the data may be just read instead of popped but it will grow the json\n",
    "    X = np.array(pdict.pop('X'))\n",
    "    # Evaluate the model to get the picks using the sample\n",
    "    characteristic_function = picker.predict(X)\n",
    "    # Attach picks to the json to send back\n",
    "    pdict['picks'] = characteristic_function.tolist()\n",
    "    for w in range(X.shape[0]):\n",
    "        showme(X, characteristic_function, pdict, w)\n",
    "    build_catalog(characteristic_function, pdict)\n",
    "    return pdict"
   ]
  },
  {
   "cell_type": "code",
   "execution_count": 18,
   "id": "02493bc4",
   "metadata": {},
   "outputs": [],
   "source": [
    "def forward(json_data):\n",
    "    response = requests.post(f'http://{pconf.host}:{pconf.apps[napp]}/{napp}', json = json_data, headers = pconf.head)\n",
    "    return response"
   ]
  },
  {
   "cell_type": "code",
   "execution_count": null,
   "id": "6d7809a0",
   "metadata": {
    "scrolled": false
   },
   "outputs": [
    {
     "name": "stdout",
     "output_type": "stream",
     "text": [
      " * Serving Flask app \"__main__\" (lazy loading)\n",
      " * Environment: production\n",
      "\u001b[31m   WARNING: This is a development server. Do not use it in a production deployment.\u001b[0m\n",
      "\u001b[2m   Use a production WSGI server instead.\u001b[0m\n",
      " * Debug mode: off\n"
     ]
    },
    {
     "name": "stderr",
     "output_type": "stream",
     "text": [
      " * Running on http://127.0.0.1:6003/ (Press CTRL+C to quit)\n"
     ]
    }
   ],
   "source": [
    "if __name__ == '__main__':\n",
    "    app.run(pconf.host, debug=False, port=pconf.apps[app_name])"
   ]
  },
  {
   "cell_type": "code",
   "execution_count": null,
   "id": "e4f1d004",
   "metadata": {},
   "outputs": [],
   "source": []
  }
 ],
 "metadata": {
  "kernelspec": {
   "display_name": "Python 3",
   "language": "python",
   "name": "python3"
  },
  "language_info": {
   "codemirror_mode": {
    "name": "ipython",
    "version": 3
   },
   "file_extension": ".py",
   "mimetype": "text/x-python",
   "name": "python",
   "nbconvert_exporter": "python",
   "pygments_lexer": "ipython3",
   "version": "3.8.11"
  }
 },
 "nbformat": 4,
 "nbformat_minor": 5
}
