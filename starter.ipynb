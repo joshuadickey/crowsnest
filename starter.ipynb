{
 "cells": [
  {
   "cell_type": "code",
   "execution_count": 1,
   "id": "2c059d7f",
   "metadata": {},
   "outputs": [],
   "source": [
    "# App that just sends information to the data preprocessor (proc_data)"
   ]
  },
  {
   "cell_type": "code",
   "execution_count": 29,
   "id": "265841d4",
   "metadata": {},
   "outputs": [],
   "source": [
    "import numpy as np\n",
    "import pandas as pd\n",
    "import os\n",
    "import json\n",
    "import requests\n",
    "import obspy\n",
    "\n",
    "from flask import Flask, request, jsonify\n",
    "\n",
    "import tkinter as tk\n",
    "from tkinter import filedialog\n",
    "\n",
    "from sqlalchemy import create_engine"
   ]
  },
  {
   "cell_type": "code",
   "execution_count": 30,
   "id": "93903b75",
   "metadata": {},
   "outputs": [],
   "source": [
    "# Import configuration paramaters for pipeline\n",
    "import pconf"
   ]
  },
  {
   "cell_type": "code",
   "execution_count": 31,
   "id": "10c5bf08",
   "metadata": {},
   "outputs": [],
   "source": [
    "# App vriables\n",
    "app = Flask(__name__)\n",
    "app_name = 'starter'\n",
    "napp = 'proc_data'\n",
    "assoc_feed = 'assoc_feed'\n",
    "model_par = {v[0]:v[1] for v in [pair.split(':') for pair in pconf.model_name[:-3].split('|')]}"
   ]
  },
  {
   "cell_type": "code",
   "execution_count": 32,
   "id": "032627c0",
   "metadata": {
    "tags": []
   },
   "outputs": [
    {
     "data": {
      "text/plain": [
       "''"
      ]
     },
     "execution_count": 32,
     "metadata": {},
     "output_type": "execute_result"
    }
   ],
   "source": [
    "# Tk settings\n",
    "root = tk.Tk()\n",
    "root.withdraw()"
   ]
  },
  {
   "cell_type": "code",
   "execution_count": 33,
   "id": "e8234834",
   "metadata": {},
   "outputs": [],
   "source": [
    "# Create a SQLAlchemy connection to the site table\n",
    "site_con = create_engine('sqlite:///site.db', echo=False)"
   ]
  },
  {
   "cell_type": "code",
   "execution_count": 34,
   "id": "812f7e03",
   "metadata": {},
   "outputs": [
    {
     "data": {
      "text/html": [
       "<div>\n",
       "<style scoped>\n",
       "    .dataframe tbody tr th:only-of-type {\n",
       "        vertical-align: middle;\n",
       "    }\n",
       "\n",
       "    .dataframe tbody tr th {\n",
       "        vertical-align: top;\n",
       "    }\n",
       "\n",
       "    .dataframe thead th {\n",
       "        text-align: right;\n",
       "    }\n",
       "</style>\n",
       "<table border=\"1\" class=\"dataframe\">\n",
       "  <thead>\n",
       "    <tr style=\"text-align: right;\">\n",
       "      <th></th>\n",
       "      <th>index</th>\n",
       "      <th>STA</th>\n",
       "      <th>ONDATE</th>\n",
       "      <th>OFFDATE</th>\n",
       "      <th>LAT</th>\n",
       "      <th>LON</th>\n",
       "      <th>ELEV</th>\n",
       "    </tr>\n",
       "  </thead>\n",
       "  <tbody>\n",
       "    <tr>\n",
       "      <th>0</th>\n",
       "      <td>0</td>\n",
       "      <td>ZAA0</td>\n",
       "      <td>2006286</td>\n",
       "      <td>2286324</td>\n",
       "      <td>53.948063</td>\n",
       "      <td>84.818807</td>\n",
       "      <td>0.2294</td>\n",
       "    </tr>\n",
       "    <tr>\n",
       "      <th>1</th>\n",
       "      <td>1</td>\n",
       "      <td>ZAA0B</td>\n",
       "      <td>2006286</td>\n",
       "      <td>2286324</td>\n",
       "      <td>53.948051</td>\n",
       "      <td>84.818784</td>\n",
       "      <td>0.2294</td>\n",
       "    </tr>\n",
       "    <tr>\n",
       "      <th>2</th>\n",
       "      <td>2</td>\n",
       "      <td>ZAA1</td>\n",
       "      <td>2006286</td>\n",
       "      <td>2286324</td>\n",
       "      <td>53.952416</td>\n",
       "      <td>84.819022</td>\n",
       "      <td>0.2462</td>\n",
       "    </tr>\n",
       "    <tr>\n",
       "      <th>3</th>\n",
       "      <td>3</td>\n",
       "      <td>ZAA2</td>\n",
       "      <td>2006286</td>\n",
       "      <td>2286324</td>\n",
       "      <td>53.943938</td>\n",
       "      <td>84.823645</td>\n",
       "      <td>0.2071</td>\n",
       "    </tr>\n",
       "    <tr>\n",
       "      <th>4</th>\n",
       "      <td>4</td>\n",
       "      <td>ZAA3</td>\n",
       "      <td>2006286</td>\n",
       "      <td>2286324</td>\n",
       "      <td>53.947681</td>\n",
       "      <td>84.809064</td>\n",
       "      <td>0.2428</td>\n",
       "    </tr>\n",
       "    <tr>\n",
       "      <th>...</th>\n",
       "      <td>...</td>\n",
       "      <td>...</td>\n",
       "      <td>...</td>\n",
       "      <td>...</td>\n",
       "      <td>...</td>\n",
       "      <td>...</td>\n",
       "      <td>...</td>\n",
       "    </tr>\n",
       "    <tr>\n",
       "      <th>2213</th>\n",
       "      <td>2213</td>\n",
       "      <td>ERM07</td>\n",
       "      <td>2004271</td>\n",
       "      <td>2286324</td>\n",
       "      <td>44.045240</td>\n",
       "      <td>110.882645</td>\n",
       "      <td>1.1707</td>\n",
       "    </tr>\n",
       "    <tr>\n",
       "      <th>2214</th>\n",
       "      <td>2214</td>\n",
       "      <td>ERM08</td>\n",
       "      <td>2004271</td>\n",
       "      <td>2286324</td>\n",
       "      <td>44.043966</td>\n",
       "      <td>110.858792</td>\n",
       "      <td>1.1777</td>\n",
       "    </tr>\n",
       "    <tr>\n",
       "      <th>2215</th>\n",
       "      <td>2215</td>\n",
       "      <td>ERM09</td>\n",
       "      <td>2004271</td>\n",
       "      <td>2286324</td>\n",
       "      <td>44.063787</td>\n",
       "      <td>110.843534</td>\n",
       "      <td>1.1838</td>\n",
       "    </tr>\n",
       "    <tr>\n",
       "      <th>2216</th>\n",
       "      <td>2216</td>\n",
       "      <td>ERM31</td>\n",
       "      <td>2004271</td>\n",
       "      <td>2286324</td>\n",
       "      <td>44.060498</td>\n",
       "      <td>110.872191</td>\n",
       "      <td>1.1701</td>\n",
       "    </tr>\n",
       "    <tr>\n",
       "      <th>2217</th>\n",
       "      <td>2217</td>\n",
       "      <td>ERMAR</td>\n",
       "      <td>2004271</td>\n",
       "      <td>2286324</td>\n",
       "      <td>44.058185</td>\n",
       "      <td>110.866818</td>\n",
       "      <td>1.1889</td>\n",
       "    </tr>\n",
       "  </tbody>\n",
       "</table>\n",
       "<p>2218 rows × 7 columns</p>\n",
       "</div>"
      ],
      "text/plain": [
       "      index    STA   ONDATE  OFFDATE        LAT         LON    ELEV\n",
       "0         0   ZAA0  2006286  2286324  53.948063   84.818807  0.2294\n",
       "1         1  ZAA0B  2006286  2286324  53.948051   84.818784  0.2294\n",
       "2         2   ZAA1  2006286  2286324  53.952416   84.819022  0.2462\n",
       "3         3   ZAA2  2006286  2286324  53.943938   84.823645  0.2071\n",
       "4         4   ZAA3  2006286  2286324  53.947681   84.809064  0.2428\n",
       "...     ...    ...      ...      ...        ...         ...     ...\n",
       "2213   2213  ERM07  2004271  2286324  44.045240  110.882645  1.1707\n",
       "2214   2214  ERM08  2004271  2286324  44.043966  110.858792  1.1777\n",
       "2215   2215  ERM09  2004271  2286324  44.063787  110.843534  1.1838\n",
       "2216   2216  ERM31  2004271  2286324  44.060498  110.872191  1.1701\n",
       "2217   2217  ERMAR  2004271  2286324  44.058185  110.866818  1.1889\n",
       "\n",
       "[2218 rows x 7 columns]"
      ]
     },
     "execution_count": 34,
     "metadata": {},
     "output_type": "execute_result"
    }
   ],
   "source": [
    "pd.read_sql_table('site', site_con)"
   ]
  },
  {
   "cell_type": "code",
   "execution_count": 39,
   "id": "97f376f1",
   "metadata": {},
   "outputs": [],
   "source": [
    "# Read table into pandas dataframe\n",
    "site_df = pd.read_sql_table('site', site_con).set_index('index')\n",
    "# Remove the name of the index\n",
    "site_df.index.name = None"
   ]
  },
  {
   "cell_type": "code",
   "execution_count": null,
   "id": "2f1d4d0f",
   "metadata": {},
   "outputs": [],
   "source": [
    "# Request dictionary\n",
    "req = {}\n",
    "\n",
    "files = filedialog.askopenfilenames()\n",
    "\n",
    "req['window_size'] = 60 * 60\n",
    "req['overlap'] = 45 * 60\n",
    "req['n_windows'] = 2  # 0 processes all the data until the file ends\n",
    "req['f_low'] = float(model_par['f_low'])\n",
    "req['f_hig'] = float(model_par['f_hig'])\n",
    "req['r_smp'] = int(model_par['r_smp'])\n",
    "req['dt'] = 0.2\n",
    "req['c_len'] = int(model_par['c_len'])\n",
    "req['cat'] = 'raw_catalog.csv'\n",
    "req['clean_cat'] = 'clean_catalog.csv'\n",
    "req['events'] = 'events.csv'\n",
    "req['files'] = []\n",
    "\n",
    "# Number of seconds not to trust the picks in front or end of the characteristic function\n",
    "req['trim'] = int(model_par['left_trim'])\n",
    "\n",
    "\n",
    "for f in files:\n",
    "    # Filename must be:\n",
    "    # .mseed extension\n",
    "    # STA_DATE.mseed\n",
    "    sta, file = f.split('/')[-1].split('_')\n",
    "    try:\n",
    "        lat = site_df[site_df.STA == sta].LAT.values[0]\n",
    "        lon = site_df[site_df.STA == sta].LON.values[0]\n",
    "    except:\n",
    "        site_df = pd.read_pickle(\"TA_Catalog.zip\")\n",
    "        lat = site_df[site_df.STA == sta].LAT.values[0]\n",
    "        lon = site_df[site_df.STA == sta].LON.values[0]\n",
    "        pass\n",
    "    try:\n",
    "        lat\n",
    "    except:\n",
    "        raise\n",
    "\n",
    "    metadata = {\n",
    "        'data_file': f,\n",
    "        'sta': sta,\n",
    "        'st_lat': lat,\n",
    "        'st_lon': lon\n",
    "    }\n",
    "    req['files'].append(metadata)"
   ]
  },
  {
   "cell_type": "code",
   "execution_count": 37,
   "id": "9768e681",
   "metadata": {
    "tags": []
   },
   "outputs": [],
   "source": [
    "# Send the post request and store the returned value in the response object\n",
    "picker_response = requests.post(f'http://{pconf.host}:{pconf.apps[napp]}/{napp}', json = req, headers = pconf.head)"
   ]
  },
  {
   "cell_type": "code",
   "execution_count": 38,
   "id": "fe215cd2",
   "metadata": {},
   "outputs": [],
   "source": [
    "# Send trigger to associator feed to clean the catalog\n",
    "pre_assoc_response = requests.post(f'http://{pconf.host}:{pconf.apps[assoc_feed]}/{assoc_feed}', json = picker_response.json(), headers=pconf.head)"
   ]
  },
  {
   "cell_type": "code",
   "execution_count": null,
   "id": "a40b1870",
   "metadata": {},
   "outputs": [],
   "source": []
  }
 ],
 "metadata": {
  "kernelspec": {
   "display_name": "Python 3",
   "language": "python",
   "name": "python3"
  },
  "language_info": {
   "codemirror_mode": {
    "name": "ipython",
    "version": 3
   },
   "file_extension": ".py",
   "mimetype": "text/x-python",
   "name": "python",
   "nbconvert_exporter": "python",
   "pygments_lexer": "ipython3",
   "version": "3.8.11"
  }
 },
 "nbformat": 4,
 "nbformat_minor": 5
}
